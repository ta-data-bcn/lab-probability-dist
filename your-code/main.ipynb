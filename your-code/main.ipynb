{
 "cells": [
  {
   "cell_type": "markdown",
   "metadata": {},
   "source": [
    "# Before your start:\n",
    "- Read the README.md file.\n",
    "- Comment as much as you can and use the resources (README.md file).\n",
    "- Happy learning!"
   ]
  },
  {
   "cell_type": "code",
   "execution_count": 1,
   "metadata": {},
   "outputs": [],
   "source": [
    "# Libraries\n",
    "import matplotlib.pyplot as plt\n",
    "import matplotlib.gridspec as gridspec\n",
    "from scipy.stats import norm\n",
    "from scipy.stats import binom\n",
    "from scipy.stats import poisson\n",
    "import numpy as np"
   ]
  },
  {
   "cell_type": "markdown",
   "metadata": {},
   "source": [
    "# Challenge 1 - Generate and Plot Normal Distributions\n",
    "#### Step 1: Generate samples and test normal distribution.\n",
    "\n",
    "Use mean=50, standard_deviation=5, and sample_size=[10, 50, 500, 5000] to generate 4 random samples that are normally distributed.\n",
    "\n",
    "**Hint**: Read the documentation for `scipy.stats.norm.rvs`. The function will help you create the normal random samples."
   ]
  },
  {
   "cell_type": "code",
   "execution_count": 2,
   "metadata": {},
   "outputs": [],
   "source": [
    "# your code here\n",
    "mean = 50\n",
    "std = 5\n",
    "sample_size=[10, 50, 500, 5000]\n",
    "random_samples = [[norm.rvs(size=elem, loc=mean, scale=std)] for elem in sample_size]\n"
   ]
  },
  {
   "cell_type": "code",
   "execution_count": 3,
   "metadata": {},
   "outputs": [
    {
     "data": {
      "text/plain": [
       "<matplotlib.legend.Legend at 0x19995539e48>"
      ]
     },
     "execution_count": 3,
     "metadata": {},
     "output_type": "execute_result"
    },
    {
     "data": {
      "image/png": "[encoded data removed]",
      "text/plain": [
       "<Figure size 864x288 with 4 Axes>"
      ]
     },
     "metadata": {
      "needs_background": "light"
     },
     "output_type": "display_data"
    }
   ],
   "source": [
    "fig = plt.figure(figsize=[12,4],constrained_layout=True)\n",
    "spec = gridspec.GridSpec(ncols=4, nrows=1, figure=fig)\n",
    "ax1 = fig.add_subplot(spec[0, 0])\n",
    "ax2 = fig.add_subplot(spec[0, 1])\n",
    "ax3 = fig.add_subplot(spec[0, 2])\n",
    "ax4 = fig.add_subplot(spec[0, 3])\n",
    "ax1.hist(random_samples[0], align='mid', label='n=10',bins=20)\n",
    "ax2.hist(random_samples[1], align='mid', label='n=50',bins=20)\n",
    "ax3.hist(random_samples[2], align='mid', label='n=500',bins=20)\n",
    "ax4.hist(random_samples[3], align='mid', label='n=5000',bins=20)\n",
    "ax1.legend()\n",
    "ax2.legend()\n",
    "ax3.legend()\n",
    "ax4.legend()"
   ]
  },
  {
   "cell_type": "markdown",
   "metadata": {},
   "source": [
    "#### Step 2: Plot normal distributions.\n",
    "\n",
    "To check the shape of the samples you have just created, you can use matplotlib. For example, you can use it to plot a histogram of each sample. \n",
    "\n",
    "If you did, your outputs would be really similar to the ones below:\n",
    "\n",
    "![normal distributions with different sample sizes](../images/ch-1.png)"
   ]
  },
  {
   "cell_type": "markdown",
   "metadata": {},
   "source": [
    "#### Compare the distributions above. What do you observe? Explain with the Central Limit Theorem."
   ]
  },
  {
   "cell_type": "markdown",
   "metadata": {},
   "source": [
    "Basically: samples of size $n$, taken from a population of mean $\\mu$ and standard deviation $\\sigma$ tend to be distributed in a bell-shape (normal distribution of mean $\\mu$ and standard deviation $\\sigma$) when $n\\to \\infty $. This happends even if the original variables are not normally distributed.\n"
   ]
  },
  {
   "cell_type": "markdown",
   "metadata": {},
   "source": [
    "#### Bonus: Plot normal distributions.\n",
    "\n",
    "Even though you still don't know how to use matplotlib, as a bonus challenge, you can try to reproduce the plot above using the samples you have created. This plotting library will be introduced later this week, so don't worry if you don't manage to get the results you want now: you can always come back to solve this challenge later."
   ]
  },
  {
   "cell_type": "code",
   "execution_count": 4,
   "metadata": {},
   "outputs": [],
   "source": [
    "# your code here"
   ]
  },
  {
   "cell_type": "markdown",
   "metadata": {},
   "source": [
    "# Challenge 2 - Plot Probability Mass Function (PMF)"
   ]
  },
  {
   "cell_type": "markdown",
   "metadata": {},
   "source": [
    "### Background knowledge\n",
    "\n",
    "[PMF](https://en.wikipedia.org/wiki/Probability_mass_function) shows the probability distribution of a **discrete random variable**. A [discrete random variable](https://en.wikipedia.org/wiki/Random_variable#Discrete_random_variable) has random numeric values that are not continuous. For example, the number of people in a household can only be integers but not floats. Therefore the number of people in a household is a discrete variable.\n",
    "\n",
    "### Challenge\n",
    "\n",
    "We assume that the probability of clicking an advertisement in a Youtube video is 0.15. We have a sample of 5 people who watched the video and we want to plot the PMF for a binomial distribution.\n",
    "\n",
    "#### Step 1: Create the binomial distribution mentioned above. Store the result in a variable called `dist`. \n",
    "**Hint**: use binom from `scipy.stats.binom`. This object takes *n* and *p* as shape parameters, where *n* is the number of independent experiments and *p* the probability of success of the experiment."
   ]
  },
  {
   "cell_type": "code",
   "execution_count": 5,
   "metadata": {},
   "outputs": [],
   "source": [
    "# your code here\n",
    "n = 5\n",
    "p = 0.15\n",
    "dist = binom(n, p)"
   ]
  },
  {
   "cell_type": "markdown",
   "metadata": {},
   "source": [
    "#### Step 2: Plot the PMF of the distribution. \n",
    "To do it, run the code in the cell below. \n",
    "\n",
    "**Hint**: Your output should look like the one below:\n",
    "\n",
    "![binom 10](../images/ch-2.png)"
   ]
  },
  {
   "cell_type": "code",
   "execution_count": 6,
   "metadata": {
    "scrolled": true
   },
   "outputs": [
    {
     "data": {
      "text/plain": [
       "<matplotlib.legend.Legend at 0x199939daa08>"
      ]
     },
     "execution_count": 6,
     "metadata": {},
     "output_type": "execute_result"
    },
    {
     "data": {
      "image/png": "[encoded data removed]",
      "text/plain": [
       "<Figure size 576x360 with 1 Axes>"
      ]
     },
     "metadata": {
      "needs_background": "light"
     },
     "output_type": "display_data"
    }
   ],
   "source": [
    "# run this code\n",
    "x = np.linspace(0,n-1,n)\n",
    "plt.figure(figsize=[8,5])\n",
    "plt.plot(x, dist.pmf(x), 'bo', ms=8, label='binom pmf')\n",
    "plt.vlines(x, 0, dist.pmf(x), colors='b', lw=5, alpha=0.5)\n",
    "plt.xticks(fontsize=12)\n",
    "plt.yticks(fontsize=12)\n",
    "plt.legend(fontsize=14)\n",
    "\n",
    "# fig, ax = plt.subplots(1, 1)\n",
    "\n",
    "# plt.plot(x, dist.pmf(x))\n",
    "\n",
    "# plt.show()"
   ]
  },
  {
   "cell_type": "markdown",
   "metadata": {},
   "source": [
    "#### Step 3: Explain what you observe from the plot above."
   ]
  },
  {
   "cell_type": "markdown",
   "metadata": {},
   "source": [
    "Basically we could extract from the plot which is the probability that a number of people $x$ clicks the video for a sample of the population of size $n=5$. Being the sample size small then the most probable is that none advertisement clicks are performed."
   ]
  },
  {
   "cell_type": "markdown",
   "metadata": {},
   "source": [
    "#### Step 4: Now plot PMF with 50, 500, and 5000 visitors.\n",
    "To plot the PMF, you can copy the code given above and replace variable `dist` for the name of the variables where you have stored the new binomial objects for 50, 500 and 5000 visitors."
   ]
  },
  {
   "cell_type": "code",
   "execution_count": 7,
   "metadata": {},
   "outputs": [
    {
     "data": {
      "text/plain": [
       "<matplotlib.legend.Legend at 0x199957e1208>"
      ]
     },
     "execution_count": 7,
     "metadata": {},
     "output_type": "execute_result"
    },
    {
     "data": {
      "image/png": "[encoded data removed]",
      "text/plain": [
       "<Figure size 864x288 with 3 Axes>"
      ]
     },
     "metadata": {
      "needs_background": "light"
     },
     "output_type": "display_data"
    }
   ],
   "source": [
    "# your code here\n",
    "sample_size=[50, 500, 5000]\n",
    "dist = [binom(elem, p) for elem in sample_size]\n",
    "x = [np.linspace(0,elem-1,elem) for elem in sample_size]\n",
    "\n",
    "fig = plt.figure(figsize=[12,4],constrained_layout=True)\n",
    "spec = gridspec.GridSpec(ncols=3, nrows=1, figure=fig)\n",
    "ax1 = fig.add_subplot(spec[0, 0])\n",
    "ax2 = fig.add_subplot(spec[0, 1])\n",
    "ax3 = fig.add_subplot(spec[0, 2])\n",
    "\n",
    "ax1.plot(x[0], dist[0].pmf(x[0]), 'r^', ms=5, label='n = 50')\n",
    "ax1.vlines(x[0], 0, dist[0].pmf(x[0]), colors='b', lw=3, alpha=0.5)\n",
    "plt.setp(ax1.get_xticklabels(), fontsize=12)\n",
    "plt.setp(ax1.get_yticklabels(), fontsize=12)\n",
    "ax1.legend(fontsize=12)\n",
    "\n",
    "ax2.plot(x[1], dist[1].pmf(x[1]), 'r^', ms=5, label='n = 500')\n",
    "ax2.vlines(x[1], 0, dist[1].pmf(x[1]), colors='b', lw=1, alpha=0.2)\n",
    "plt.setp(ax2.get_xticklabels(), fontsize=12)\n",
    "plt.setp(ax2.get_yticklabels(), fontsize=12)\n",
    "ax2.legend(fontsize=12)\n",
    "\n",
    "ax3.plot(x[2], dist[2].pmf(x[2]), 'r^', ms=5, label='n = 5000', alpha=0.5)\n",
    "ax3.vlines(x[2], 0, dist[2].pmf(x[2]), colors='b', lw=1, alpha=0.1)\n",
    "plt.setp(ax3.get_xticklabels(), fontsize=12)\n",
    "plt.setp(ax3.get_yticklabels(), fontsize=12)\n",
    "ax3.legend(fontsize=12)\n"
   ]
  },
  {
   "cell_type": "markdown",
   "metadata": {},
   "source": [
    "#### Step 5: What did you notice from the distribution plots? Comment your findings."
   ]
  },
  {
   "cell_type": "markdown",
   "metadata": {},
   "source": [
    "We observe that for each of the samples of size $n$, the highest probability is centered around $x = 15\\%\\,n$ given the probability $p$ of the distribution. The peak value of the **PMF** differs with the size of the sample, given that the sum of all probabilities should always be $\\displaystyle\\sum_{i=0}^{n-1} P(x_i) = 1$ independently of the sample size $n$."
   ]
  },
  {
   "cell_type": "markdown",
   "metadata": {},
   "source": [
    "# Challenge 3\n",
    "#### Step 1: Research the Poisson distribution. Write about your own understanding of the Poisson distribution."
   ]
  },
  {
   "cell_type": "markdown",
   "metadata": {},
   "source": [
    "It is a discrete probability distribution, that is a function only defined for positive integers including zero $\\displaystyle k\\in \\mathbb {N} _{0}$. This function expresses the probability that a given number of events occur during a fixed interval of time (or space), under these hypothesis:\n",
    "\n",
    "- Events occur with a known constant mean rate $\\lambda$.\n",
    "- Events occur independently.\n"
   ]
  },
  {
   "cell_type": "markdown",
   "metadata": {},
   "source": [
    "#### Step 2: A website has an average of 300 visits per day. What is the probability of getting 320 visitors in a day?\n",
    "\n",
    "**Hint**: use `scipy.stats.poisson.pmf`."
   ]
  },
  {
   "cell_type": "code",
   "execution_count": 8,
   "metadata": {},
   "outputs": [
    {
     "name": "stdout",
     "output_type": "stream",
     "text": [
      "The probability of getting 320 visitors in a day is: 1.16%\n"
     ]
    }
   ],
   "source": [
    "# your code here\n",
    "lambda_ = 300\n",
    "k = 320\n",
    "p_320 = poisson.pmf(k, lambda_)\n",
    "print(f\"The probability of getting 320 visitors in a day is: {round(p_320*100,2)}%\")"
   ]
  },
  {
   "cell_type": "markdown",
   "metadata": {},
   "source": [
    "#### Step 3: What is the probability of getting 60 visits?"
   ]
  },
  {
   "cell_type": "code",
   "execution_count": 9,
   "metadata": {},
   "outputs": [
    {
     "name": "stdout",
     "output_type": "stream",
     "text": [
      "The probability of getting 60 visits in a day is: 0.0%\n"
     ]
    }
   ],
   "source": [
    "# your code here\n",
    "p_60 = poisson.pmf(60, lambda_)\n",
    "print(f\"The probability of getting 60 visits in a day is: {round(p_60*100,2)}%\")"
   ]
  },
  {
   "cell_type": "markdown",
   "metadata": {},
   "source": [
    "#### Step 4: Create a list to store the Poisson distribution probabilities for 0 to 1000 visitors. Store your list in a variable called `arr`."
   ]
  },
  {
   "cell_type": "code",
   "execution_count": 10,
   "metadata": {},
   "outputs": [],
   "source": [
    "# your code here\n",
    "n = 1000\n",
    "arr = [poisson.pmf(k, lambda_) for k in range(n+1)]"
   ]
  },
  {
   "cell_type": "markdown",
   "metadata": {},
   "source": [
    "#### Step 5: Plot the probabilities.\n",
    "To do it, run the code in the cell below. Your plot should look like the one below:\n",
    "\n",
    "![poisson distribution](../images/ch-3.png)"
   ]
  },
  {
   "cell_type": "code",
   "execution_count": 11,
   "metadata": {},
   "outputs": [
    {
     "data": {
      "text/plain": [
       "<matplotlib.legend.Legend at 0x19995972688>"
      ]
     },
     "execution_count": 11,
     "metadata": {},
     "output_type": "execute_result"
    },
    {
     "data": {
      "image/png": "[encoded data removed]",
      "text/plain": [
       "<Figure size 576x360 with 1 Axes>"
      ]
     },
     "metadata": {
      "needs_background": "light"
     },
     "output_type": "display_data"
    }
   ],
   "source": [
    "# run this code\n",
    "x = np.linspace(0,n,n+1)\n",
    "plt.figure(figsize=[8,5])\n",
    "plt.plot(x, arr, 'ro', ms=4, label='poisson pmf', alpha=0.7)\n",
    "plt.vlines(x, 0, arr, colors='b', lw=2, alpha=0.2)\n",
    "plt.xticks(fontsize=12)\n",
    "plt.yticks(fontsize=12)\n",
    "plt.legend(fontsize=14)\n"
   ]
  },
  {
   "cell_type": "code",
   "execution_count": 12,
   "metadata": {},
   "outputs": [],
   "source": [
    "# plots poisson distribution only for k where P(k) ranges 0.01 < P(k) < 0.99\n",
    "# x = np.arange(poisson.ppf(0.01, lambda_),poisson.ppf(0.99, lambda_))\n",
    "# arr = [poisson.pmf(k, lambda_) for k in x]"
   ]
  },
  {
   "cell_type": "markdown",
   "metadata": {},
   "source": [
    "# Challenge 4 - Central Limit Theorem\n",
    "\n",
    "A delivery company needs 35 minutes to deliver a package, with a standard deviation of 8 minutes. Suppose that in one day, they deliver 200 packages.\n",
    "\n",
    "**Hint**: `stats.norm.cdf` can help you find the answers.\n",
    "\n",
    "#### Step 1: What is the probability that the mean delivery time today is between 30 and 35 minutes?"
   ]
  },
  {
   "cell_type": "code",
   "execution_count": 13,
   "metadata": {},
   "outputs": [
    {
     "name": "stdout",
     "output_type": "stream",
     "text": [
      "Probability that mean delivery falls between 30 and 35 minutes is: 23.4%\n"
     ]
    }
   ],
   "source": [
    "# your code here (use cumulative distribution!)\n",
    "mean = 35\n",
    "std = 8\n",
    "cum_35 = norm.cdf(35, loc=mean, scale=std)\n",
    "cum_30 = norm.cdf(30, loc=mean, scale=std)\n",
    "print(f\"Probability that mean delivery falls between 30 and 35 minutes is: {round((cum_35-cum_30)*100,2)}%\")"
   ]
  },
  {
   "cell_type": "markdown",
   "metadata": {},
   "source": [
    "#### Step 2: What is the probability that in total, it takes more than 115 hours to deliver all 200 packages?"
   ]
  },
  {
   "cell_type": "code",
   "execution_count": 14,
   "metadata": {},
   "outputs": [
    {
     "name": "stdout",
     "output_type": "stream",
     "text": [
      "Probability that all deliveries take more than 115 hours is: 52.49%\n"
     ]
    }
   ],
   "source": [
    "# your code here\n",
    "mean200 = 115*60/200\n",
    "cum_115h = norm.cdf(mean200, loc=mean, scale=std)\n",
    "print(f\"Probability that all deliveries take more than 115 hours is: {round((1-cum_115h)*100,2)}%\")"
   ]
  },
  {
   "cell_type": "markdown",
   "metadata": {},
   "source": [
    "# Challenge 5 - Normal Variables\n",
    "The value (in thousands) of the monthly sales of a publishing company follows a normal distribution with a mean equal to 200 and a standard deviation equal to 40.\n",
    "\n",
    "<div align=\"center\">$X → N(200,40)$</div>\n",
    "\n",
    "**Hint**: `stats.norm.cdf` can help you find the answers.\n",
    "\n",
    "#### Step 1: Find the probability that the monthly sales are more than 300."
   ]
  },
  {
   "cell_type": "code",
   "execution_count": 15,
   "metadata": {
    "scrolled": true
   },
   "outputs": [
    {
     "name": "stdout",
     "output_type": "stream",
     "text": [
      "Probability that monthly sales become above 300 is: 0.62%\n"
     ]
    }
   ],
   "source": [
    "# your code here (use cumulative distribution!)\n",
    "mean = 200\n",
    "std = 40\n",
    "cum_300 = norm.cdf(300, loc=mean, scale=std)\n",
    "print(f\"Probability that monthly sales become above 300 is: {round((1-cum_300)*100,2)}%\")"
   ]
  },
  {
   "cell_type": "markdown",
   "metadata": {},
   "source": [
    "#### Step 2: Find the probability that the monthly sales fall between 160 and 240."
   ]
  },
  {
   "cell_type": "code",
   "execution_count": 16,
   "metadata": {},
   "outputs": [
    {
     "name": "stdout",
     "output_type": "stream",
     "text": [
      "Monthly sales probability falling between 160 (mu-sigma) and 240 (mu+sigma) is 68.27%\n"
     ]
    }
   ],
   "source": [
    "# your code here\n",
    "print(f\"Monthly sales probability falling between 160 (mu-sigma) and 240 (mu+sigma) is 68.27%\")"
   ]
  },
  {
   "cell_type": "markdown",
   "metadata": {},
   "source": [
    "#### Step 3: Find the probability that the monthly sales do not exceed 150."
   ]
  },
  {
   "cell_type": "code",
   "execution_count": 17,
   "metadata": {},
   "outputs": [
    {
     "name": "stdout",
     "output_type": "stream",
     "text": [
      "Probability that monthly sales do not exceed 150k is: 10.56%\n"
     ]
    }
   ],
   "source": [
    "# your code here\n",
    "cum_150 = norm.cdf(150, loc=mean, scale=std)\n",
    "print(f\"Probability that monthly sales do not exceed 150k is: {round(cum_150*100,2)}%\")"
   ]
  },
  {
   "cell_type": "markdown",
   "metadata": {},
   "source": [
    "#### Step 4: Find the probability that the monthly sales exceed 3000."
   ]
  },
  {
   "cell_type": "code",
   "execution_count": 18,
   "metadata": {},
   "outputs": [
    {
     "name": "stdout",
     "output_type": "stream",
     "text": [
      "Probability that monthly sales exceed 3000 is: 0.0%\n"
     ]
    }
   ],
   "source": [
    "# your code here\n",
    "cum_3000 = norm.cdf(3000, loc=mean, scale=std)\n",
    "print(f\"Probability that monthly sales exceed 3000 is: {round((1-cum_3000)*100,2)}%\")"
   ]
  },
  {
   "cell_type": "markdown",
   "metadata": {},
   "source": [
    "# Challenge 6 - Poisson distribution\n",
    "The mean number of violent robberies per month that are registered in a particular barrio is 4.\n",
    "\n",
    "**Hint**: `stats.poisson.cdf` can help you find the answers.\n",
    "\n",
    "#### Step 1: Find the probability that in a particular month there is no violent robbery."
   ]
  },
  {
   "cell_type": "code",
   "execution_count": 19,
   "metadata": {},
   "outputs": [
    {
     "name": "stdout",
     "output_type": "stream",
     "text": [
      "Probability that there is no violent robbery monthly is: 1.83%\n"
     ]
    }
   ],
   "source": [
    "# your code here\n",
    "lambda_ = 4\n",
    "k = 0\n",
    "cum_0 = poisson.cdf(k, lambda_)\n",
    "print(f\"Probability that there is no violent robbery monthly is: {round((cum_0)*100,2)}%\")"
   ]
  },
  {
   "cell_type": "code",
   "execution_count": 20,
   "metadata": {},
   "outputs": [
    {
     "data": {
      "text/plain": [
       "<matplotlib.legend.Legend at 0x1999595ae08>"
      ]
     },
     "execution_count": 20,
     "metadata": {},
     "output_type": "execute_result"
    },
    {
     "data": {
      "image/png": "[encoded data removed]",
      "text/plain": [
       "<Figure size 576x360 with 1 Axes>"
      ]
     },
     "metadata": {
      "needs_background": "light"
     },
     "output_type": "display_data"
    }
   ],
   "source": [
    "x = np.arange(poisson.ppf(0.01, lambda_),poisson.ppf(0.99, lambda_))\n",
    "arr = [poisson.pmf(k, lambda_) for k in x]\n",
    "plt.figure(figsize=[8,5])\n",
    "plt.plot(x, arr, 'ro', ms=4, label='poisson pmf', alpha=0.7)\n",
    "plt.vlines(x, 0, arr, colors='b', lw=2, alpha=0.2)\n",
    "plt.xticks(fontsize=12)\n",
    "plt.yticks(fontsize=12)\n",
    "plt.legend(fontsize=14)"
   ]
  },
  {
   "cell_type": "markdown",
   "metadata": {},
   "source": [
    "#### Step 2: Find the probability that there are at least 1 robbery in a given month."
   ]
  },
  {
   "cell_type": "code",
   "execution_count": 21,
   "metadata": {},
   "outputs": [
    {
     "name": "stdout",
     "output_type": "stream",
     "text": [
      "Probability that there is at least one violent robbery monthly is: 9.16%\n"
     ]
    }
   ],
   "source": [
    "# your code here\n",
    "cum_1 = poisson.cdf(1, lambda_)\n",
    "print(f\"Probability that there is at least one violent robbery monthly is: {round((cum_1)*100,2)}%\")"
   ]
  },
  {
   "cell_type": "markdown",
   "metadata": {},
   "source": [
    "#### Step 3: Find the probability that there are between 2 and 6 (inclusive) robberies in a given month."
   ]
  },
  {
   "cell_type": "code",
   "execution_count": 22,
   "metadata": {},
   "outputs": [
    {
     "name": "stdout",
     "output_type": "stream",
     "text": [
      "Probability that there are between 2 (exclusive) and 6 (inclusive) robberies monthly is: 65.12%\n"
     ]
    }
   ],
   "source": [
    "# your code here\n",
    "cum_6 = poisson.cdf(6, lambda_)\n",
    "cum_2 = poisson.cdf(2, lambda_)\n",
    "print(f\"Probability that there are between 2 (exclusive) and 6 (inclusive) robberies monthly is: {round((cum_6-cum_2)*100,2)}%\")"
   ]
  },
  {
   "cell_type": "markdown",
   "metadata": {},
   "source": [
    "#### Step 4: Find the probability that there are more than 2 robberies in 15 days."
   ]
  },
  {
   "cell_type": "code",
   "execution_count": 23,
   "metadata": {},
   "outputs": [
    {
     "name": "stdout",
     "output_type": "stream",
     "text": [
      "Probability that there are more than 2 robberies in 15 days is: 32.33%\n"
     ]
    }
   ],
   "source": [
    "# your code here (assumes mean robberies per 15 days is 2)\n",
    "lambda_ = 2\n",
    "k = 2\n",
    "cum_2 = poisson.cdf(k, lambda_)\n",
    "print(f\"Probability that there are more than 2 robberies in 15 days is: {round((1-cum_2)*100,2)}%\")"
   ]
  },
  {
   "cell_type": "code",
   "execution_count": 24,
   "metadata": {},
   "outputs": [
    {
     "data": {
      "text/plain": [
       "<matplotlib.legend.Legend at 0x19996cb2488>"
      ]
     },
     "execution_count": 24,
     "metadata": {},
     "output_type": "execute_result"
    },
    {
     "data": {
      "image/png": "[encoded data removed]",
      "text/plain": [
       "<Figure size 576x360 with 1 Axes>"
      ]
     },
     "metadata": {
      "needs_background": "light"
     },
     "output_type": "display_data"
    }
   ],
   "source": [
    "x = np.arange(poisson.ppf(0.01, lambda_),poisson.ppf(0.99, lambda_))\n",
    "arr = [poisson.pmf(k, lambda_) for k in x]\n",
    "plt.figure(figsize=[8,5])\n",
    "plt.plot(x, arr, 'ro', ms=4, label='poisson pmf', alpha=0.7)\n",
    "plt.vlines(x, 0, arr, colors='b', lw=2, alpha=0.2)\n",
    "plt.xticks(fontsize=12)\n",
    "plt.yticks(fontsize=12)\n",
    "plt.legend(fontsize=14)"
   ]
  }
 ],
 "metadata": {
  "anaconda-cloud": {},
  "kernelspec": {
   "display_name": "Python 3",
   "language": "python",
   "name": "python3"
  },
  "language_info": {
   "codemirror_mode": {
    "name": "ipython",
    "version": 3
   },
   "file_extension": ".py",
   "mimetype": "text/x-python",
   "name": "python",
   "nbconvert_exporter": "python",
   "pygments_lexer": "ipython3",
   "version": "3.7.6"
  }
 },
 "nbformat": 4,
 "nbformat_minor": 1
}
