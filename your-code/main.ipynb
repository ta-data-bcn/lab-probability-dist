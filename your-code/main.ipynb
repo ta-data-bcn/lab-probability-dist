{
 "cells": [
  {
   "cell_type": "markdown",
   "metadata": {},
   "source": [
    "# Before your start:\n",
    "- Read the README.md file.\n",
    "- Comment as much as you can and use the resources (README.md file).\n",
    "- Happy learning!"
   ]
  },
  {
   "cell_type": "code",
   "execution_count": 2,
   "metadata": {},
   "outputs": [],
   "source": [
    "# Libraries\n",
    "import matplotlib.pyplot as plt\n",
    "from scipy import stats \n",
    "import pandas as pd"
   ]
  },
  {
   "cell_type": "markdown",
   "metadata": {},
   "source": [
    "# Challenge 1 - Generate and Plot Normal Distributions\n",
    "#### Step 1: Generate samples and test normal distribution.\n",
    "\n",
    "Use mean=50, standard_deviation=5, and sample_size=[10, 50, 500, 5000] to generate 4 random samples that are normally distributed.\n",
    "\n",
    "**Hint**: Read the documentation for `scipy.stats.norm.rvs`. The function will help you create the normal random samples."
   ]
  },
  {
   "cell_type": "code",
   "execution_count": 4,
   "metadata": {},
   "outputs": [],
   "source": [
    "sample_size=[10, 50, 500, 5000]\n"
   ]
  },
  {
   "cell_type": "code",
   "execution_count": 13,
   "metadata": {},
   "outputs": [
    {
     "data": {
      "text/plain": [
       "[array([57.44270284, 43.9941702 , 52.08754399, 59.88647132, 46.28571445,\n",
       "        44.8525709 , 54.04715356, 50.3841492 , 51.79440434, 46.67637073]),\n",
       " array([51.9188026 , 50.01761535, 47.15379972, 47.3415131 , 50.06724242,\n",
       "        49.06199433, 46.94557403, 57.81077399, 53.54014995, 52.83291035,\n",
       "        48.93531184, 54.20441524, 52.38769632, 42.46718457, 49.13255613,\n",
       "        47.77403997, 48.65508847, 45.82624651, 46.46969798, 58.44623635,\n",
       "        57.42833957, 53.39322405, 54.49960738, 45.72041612, 52.43137304,\n",
       "        51.76441765, 49.65908078, 54.47802334, 54.44350683, 55.04022506,\n",
       "        52.04245525, 49.36422271, 56.46536814, 47.80047232, 48.22355235,\n",
       "        44.14853251, 48.20585347, 51.37133991, 54.5806396 , 50.24852414,\n",
       "        55.26993483, 52.48710715, 48.74336817, 58.94381594, 51.48073916,\n",
       "        55.68114394, 58.43784046, 51.68307139, 54.41385235, 42.63325572]),\n",
       " array([55.80316389, 59.78266969, 54.72347817, 35.92023522, 51.05967644,\n",
       "        51.31485725, 48.23634684, 40.26742608, 42.11698809, 50.59793065,\n",
       "        50.06769703, 55.18671912, 41.89664192, 39.76940762, 42.18295353,\n",
       "        46.40127097, 50.52421468, 51.80968409, 43.19467937, 46.37654108,\n",
       "        49.43591492, 49.89198165, 47.93244231, 45.29594412, 51.08745307,\n",
       "        47.1423617 , 45.56714933, 53.0192764 , 40.74465644, 43.25732114,\n",
       "        61.78422606, 44.13980105, 46.41642327, 51.69277527, 46.47129101,\n",
       "        59.10858326, 53.08192924, 52.68467001, 48.36978048, 49.2997714 ,\n",
       "        42.31571142, 43.76185788, 56.22826273, 49.92987668, 50.2005218 ,\n",
       "        50.86075515, 50.29403856, 50.73708752, 49.41752335, 51.12021909,\n",
       "        50.6811436 , 45.95817056, 53.73762321, 44.01726269, 48.34357755,\n",
       "        45.46536665, 44.29837163, 44.69635032, 51.98266866, 54.77633213,\n",
       "        45.40569125, 44.09732066, 48.8380738 , 41.4426856 , 50.97866956,\n",
       "        55.52526956, 56.33551337, 54.15430952, 58.14179538, 48.49911264,\n",
       "        54.64204256, 37.7570357 , 47.50552845, 44.47097338, 55.65878966,\n",
       "        51.99339719, 55.69528409, 49.86221182, 45.40176008, 43.2628823 ,\n",
       "        54.27308644, 44.84059467, 46.22734987, 46.61281581, 49.93789075,\n",
       "        58.91582286, 48.86759054, 50.37114102, 43.71963536, 47.85230838,\n",
       "        48.61962532, 49.0084016 , 49.60819292, 41.38106674, 48.69765599,\n",
       "        46.65885288, 50.92267341, 45.58345921, 52.93080559, 46.75933205,\n",
       "        41.61095624, 52.90558956, 47.11518868, 51.49656274, 53.49577285,\n",
       "        53.04811474, 50.70480837, 53.02184913, 50.48061103, 45.43647425,\n",
       "        44.6041989 , 45.77420977, 46.80395749, 46.32778871, 48.94831627,\n",
       "        58.77640298, 43.06967185, 54.3145608 , 46.77750234, 49.74298616,\n",
       "        52.71285178, 45.80617243, 51.26640226, 43.45345164, 43.25560604,\n",
       "        61.05017003, 56.81985365, 48.1752956 , 43.90582337, 59.54727229,\n",
       "        42.67647254, 46.8813363 , 59.44036019, 46.8639398 , 51.69508297,\n",
       "        46.81068966, 50.42183482, 47.23942232, 45.52266505, 46.09055206,\n",
       "        45.6932277 , 52.75209545, 41.50737066, 57.09219763, 55.53773442,\n",
       "        52.7478426 , 40.49590063, 44.88805081, 53.50974229, 56.69532529,\n",
       "        58.01906883, 66.73723183, 52.66468491, 48.58399563, 49.5499652 ,\n",
       "        46.04843039, 47.27304446, 53.10291303, 52.82588252, 57.99434324,\n",
       "        49.8917665 , 49.43511426, 57.22243917, 49.47676151, 54.74977557,\n",
       "        56.02766297, 50.74726389, 56.95517424, 47.97422172, 55.68976218,\n",
       "        44.2650643 , 49.6528012 , 43.54584424, 40.16236073, 50.85159756,\n",
       "        47.89383983, 42.15050274, 50.57809031, 44.03271113, 48.58003016,\n",
       "        51.63515327, 49.12402551, 52.77757187, 45.32270482, 57.04281836,\n",
       "        52.5244925 , 50.50650272, 53.803051  , 39.88315955, 51.04349263,\n",
       "        46.13761059, 50.26173371, 47.82834168, 48.77901056, 59.27483602,\n",
       "        56.73153701, 49.57208162, 45.54878759, 45.94011456, 52.40497733,\n",
       "        47.26428112, 47.35720858, 51.76637376, 52.66395225, 49.20343226,\n",
       "        52.41531535, 50.51747456, 44.55088306, 43.88140018, 42.82262172,\n",
       "        46.24130692, 58.61382707, 51.61015008, 59.89165368, 51.2260031 ,\n",
       "        52.43461522, 54.7606417 , 52.68727651, 42.53409082, 51.22861207,\n",
       "        47.97774073, 49.79542494, 54.5291988 , 42.86398755, 44.27963738,\n",
       "        49.88458335, 46.44441084, 45.71034622, 44.12318926, 44.18253496,\n",
       "        56.84108109, 54.1121693 , 49.23080877, 60.14786999, 43.12878386,\n",
       "        45.79671137, 54.85577137, 57.48563848, 59.70571063, 49.49500963,\n",
       "        58.03228395, 51.02957309, 52.21554264, 53.66820944, 54.04001268,\n",
       "        51.46752185, 52.69467691, 55.607928  , 47.92534382, 52.25828356,\n",
       "        54.57484913, 45.2797611 , 55.43959305, 58.35484929, 52.2705681 ,\n",
       "        43.81055214, 54.79575857, 49.21743062, 51.34890057, 47.96050954,\n",
       "        47.08637093, 58.2125468 , 55.78654171, 50.19066727, 51.55150302,\n",
       "        48.22880172, 47.1001297 , 46.70593336, 57.87408242, 44.07997519,\n",
       "        54.45970277, 48.39245068, 46.38888669, 49.42440688, 41.95691362,\n",
       "        48.63976784, 57.89684137, 48.02910238, 41.88265168, 50.39807141,\n",
       "        36.41272267, 45.81868615, 52.14105896, 54.37312779, 52.38403539,\n",
       "        44.45521455, 42.08240679, 50.44747617, 41.8411277 , 48.60348732,\n",
       "        47.94617443, 46.48713323, 52.74519787, 53.83447254, 52.13554586,\n",
       "        45.31297724, 44.33014289, 48.96911724, 46.64223707, 42.43058381,\n",
       "        50.60508866, 48.23387069, 48.36360021, 59.20739755, 56.71513388,\n",
       "        52.05446937, 57.22363134, 54.49374174, 50.56162128, 45.98311977,\n",
       "        52.25883317, 48.64501577, 48.72272477, 44.93296007, 52.69165716,\n",
       "        48.00008751, 52.64262054, 42.77710177, 35.20980566, 46.5706608 ,\n",
       "        45.81829624, 45.24665971, 42.92721791, 44.54576031, 49.46775436,\n",
       "        47.91861531, 51.97014562, 53.98395296, 49.6209788 , 56.17557278,\n",
       "        47.36355677, 42.89881084, 52.24673924, 50.10357625, 50.08349674,\n",
       "        49.01199413, 43.72477329, 48.15735829, 49.41948534, 52.3720802 ,\n",
       "        51.32053593, 46.55423007, 52.30116956, 52.87512882, 46.14892566,\n",
       "        50.13808953, 46.49271204, 46.35913992, 52.46937025, 57.22102465,\n",
       "        48.18729371, 50.87421915, 51.12606667, 54.21623924, 44.05345902,\n",
       "        56.98054549, 44.69635848, 55.06536941, 48.6624742 , 54.42110084,\n",
       "        51.13705869, 49.59380358, 51.90309281, 55.81373522, 48.37906749,\n",
       "        54.88571105, 43.24899444, 47.27324928, 58.31027223, 46.88648744,\n",
       "        47.91282738, 52.84200217, 44.46959465, 52.83742895, 52.23961051,\n",
       "        51.69330581, 50.69247123, 48.14914965, 40.56520732, 52.59734156,\n",
       "        45.22371857, 49.18535849, 49.01362378, 70.517613  , 58.1236041 ,\n",
       "        47.53983607, 55.61925513, 52.11730668, 41.55924034, 51.04297712,\n",
       "        51.51416891, 46.23842402, 42.31190622, 51.31143881, 49.94835462,\n",
       "        46.73564121, 51.25690576, 53.66078631, 50.19204898, 63.16903717,\n",
       "        49.38654653, 43.65763419, 39.77496439, 41.17178428, 45.51027986,\n",
       "        47.45859453, 50.50618593, 62.68387619, 54.99480476, 50.36989404,\n",
       "        50.47551581, 45.5894366 , 58.73697085, 42.81260617, 54.41832907,\n",
       "        48.4246419 , 50.04777611, 47.38603976, 43.19039481, 55.37975002,\n",
       "        43.20800931, 55.81679719, 55.15289464, 49.43919169, 48.46189432,\n",
       "        50.41057563, 47.35712211, 51.98785541, 54.03641019, 51.46057588,\n",
       "        51.51410328, 48.48849725, 49.18481404, 58.73254233, 54.34154797,\n",
       "        53.08850108, 48.39426886, 51.46203437, 46.28546267, 47.55655287,\n",
       "        50.4550495 , 47.63193869, 49.10965073, 44.86762822, 45.62270052,\n",
       "        44.40264787, 45.15039472, 55.71299854, 54.11153567, 48.07407205,\n",
       "        37.68799599, 48.9814045 , 50.79212186, 47.0185635 , 51.58095374,\n",
       "        44.93310783, 52.04155657, 52.39724638, 43.03725075, 54.18077872,\n",
       "        56.50883475, 49.83731969, 47.56043381, 53.56726888, 52.90812434,\n",
       "        57.4360429 , 48.65004101, 43.19982641, 60.29831245, 52.09428081,\n",
       "        50.12041842, 51.80958574, 58.61112145, 45.50626433, 43.5107553 ,\n",
       "        44.73616974, 44.80578063, 49.78067449, 46.47703538, 48.98694458,\n",
       "        51.55441773, 56.52149938, 46.58807373, 50.97688034, 51.51577862,\n",
       "        49.07695415, 46.62177532, 51.1105845 , 47.87454514, 57.80047785,\n",
       "        51.72273414, 41.49527817, 57.36870845, 51.75945065, 51.84413881,\n",
       "        55.21201734, 50.62216871, 56.59842182, 47.19565945, 48.64612286]),\n",
       " array([48.78866248, 37.25613133, 45.89411546, ..., 51.11120867,\n",
       "        51.55015946, 50.47006739])]"
      ]
     },
     "execution_count": 13,
     "metadata": {},
     "output_type": "execute_result"
    }
   ],
   "source": [
    "#we create the distribution iteritably\n",
    "samples = []\n",
    "for i in sample_size:\n",
    "    r = stats.norm.rvs(loc=50, scale= 5, size=int(i))\n",
    "    samples.append(r)\n",
    "    \n",
    "samples"
   ]
  },
  {
   "cell_type": "markdown",
   "metadata": {},
   "source": [
    "#### Step 2: Plot normal distributions.\n",
    "\n",
    "To check the shape of the samples you have just created, you can use matplotlib. For example, you can use it to plot a histogram of each sample. \n",
    "\n",
    "If you did, your outputs would be really similar to the ones below:\n",
    "\n",
    "![normal distributions with different sample sizes](../images/ch-1.png)"
   ]
  },
  {
   "cell_type": "code",
   "execution_count": 16,
   "metadata": {},
   "outputs": [],
   "source": [
    "serie_index1=pd.Series(samples[0])\n",
    "serie_index2=pd.Series(samples[1])\n",
    "serie_index3=pd.Series(samples[2])\n",
    "serie_index4=pd.Series(samples[3])"
   ]
  },
  {
   "cell_type": "code",
   "execution_count": 24,
   "metadata": {},
   "outputs": [
    {
     "data": {
      "text/plain": [
       "(array([  3.,   5.,  12.,  45.,  79., 173., 303., 464., 568., 629., 672.,\n",
       "        603., 553., 366., 259., 125.,  79.,  35.,  17.,  10.]),\n",
       " array([31.99051631, 33.73088451, 35.47125271, 37.2116209 , 38.9519891 ,\n",
       "        40.6923573 , 42.43272549, 44.17309369, 45.91346189, 47.65383008,\n",
       "        49.39419828, 51.13456648, 52.87493467, 54.61530287, 56.35567107,\n",
       "        58.09603926, 59.83640746, 61.57677566, 63.31714385, 65.05751205,\n",
       "        66.79788025]),\n",
       " <a list of 20 Patch objects>)"
      ]
     },
     "execution_count": 24,
     "metadata": {},
     "output_type": "execute_result"
    },
    {
     "data": {
      "image/png": "[encoded data removed]",
      "text/plain": [
       "<Figure size 864x288 with 4 Axes>"
      ]
     },
     "metadata": {
      "needs_background": "light"
     },
     "output_type": "display_data"
    }
   ],
   "source": [
    "fig, (ax1, ax2, ax3, ax4) = plt.subplots(1, 4, figsize=(12, 4), linewidth=3)\n",
    "fig.tight_layout(pad=4)\n",
    "ax1.hist(serie_index1,bins=15)\n",
    "ax2.hist(serie_index2,bins=20)\n",
    "ax3.hist(serie_index3,bins=20)\n",
    "ax4.hist(serie_index4,bins=20)\n"
   ]
  },
  {
   "cell_type": "markdown",
   "metadata": {},
   "source": [
    "#### Compare the distributions above. What do you observe? Explain with the Central Limit Theorem."
   ]
  },
  {
   "cell_type": "code",
   "execution_count": null,
   "metadata": {},
   "outputs": [],
   "source": [
    "\"\"\"\n",
    "They are quite similar, and specially for the 5000 observations sample, which probes that the bigger the sample, the more \n",
    "its probability distribution approximates to a normal.\n",
    "\"\"\""
   ]
  },
  {
   "cell_type": "markdown",
   "metadata": {},
   "source": [
    "#### Bonus: Plot normal distributions.\n",
    "\n",
    "Even though you still don't know how to use matplotlib, as a bonus challenge, you can try to reproduce the plot above using the samples you have created. This plotting library will be introduced later this week, so don't worry if you don't manage to get the results you want now: you can always come back to solve this challenge later."
   ]
  },
  {
   "cell_type": "code",
   "execution_count": null,
   "metadata": {},
   "outputs": [],
   "source": [
    "# your code here"
   ]
  },
  {
   "cell_type": "markdown",
   "metadata": {},
   "source": [
    "# Challenge 2 - Plot Probability Mass Function (PMF)"
   ]
  },
  {
   "cell_type": "markdown",
   "metadata": {},
   "source": [
    "### Background knowledge\n",
    "\n",
    "[PMF](https://en.wikipedia.org/wiki/Probability_mass_function) shows the probability distribution of a **discrete random variable**. A [discrete random variable](https://en.wikipedia.org/wiki/Random_variable#Discrete_random_variable) has random numeric values that are not continuous. For example, the number of people in a household can only be integers but not floats. Therefore the number of people in a household is a discrete variable.\n",
    "\n",
    "### Challenge\n",
    "\n",
    "We assume that the probability of clicking an advertisement in a Youtube video is 0.15. We have a sample of 5 people who watched the video and we want to plot the PMF for a binomial distribution.\n",
    "\n",
    "#### Step 1: Create the binomial distribution mentioned above. Store the result in a variable called `dist`. \n",
    "**Hint**: use binom from `scipy.stats.binom`. This object takes *n* and *p* as shape parameters, where *n* is the number of independent experiments and *p* the probability of success of the experiment."
   ]
  },
  {
   "cell_type": "code",
   "execution_count": 44,
   "metadata": {},
   "outputs": [
    {
     "data": {
      "text/plain": [
       "7.593750000000001e-05"
      ]
     },
     "execution_count": 44,
     "metadata": {},
     "output_type": "execute_result"
    }
   ],
   "source": [
    "n=5\n",
    "p=0.15\n",
    "dist=stats.binom(n=5,p=0.15)\n"
   ]
  },
  {
   "cell_type": "markdown",
   "metadata": {},
   "source": [
    "#### Step 2: Plot the PMF of the distribution. \n",
    "To do it, run the code in the cell below. \n",
    "\n",
    "**Hint**: Your output should look like the one below:\n",
    "\n",
    "![binom 10](../images/ch-2.png)"
   ]
  },
  {
   "cell_type": "code",
   "execution_count": 48,
   "metadata": {},
   "outputs": [
    {
     "data": {
      "image/png": "[encoded data removed]",
      "text/plain": [
       "<Figure size 432x288 with 1 Axes>"
      ]
     },
     "metadata": {
      "needs_background": "light"
     },
     "output_type": "display_data"
    }
   ],
   "source": [
    "# run this code\n",
    "x = range(n)\n",
    "\n",
    "fig, ax = plt.subplots(1, 1)\n",
    "\n",
    "plt.plot(x, dist.pmf(x))\n",
    "\n",
    "plt.show()"
   ]
  },
  {
   "cell_type": "markdown",
   "metadata": {},
   "source": [
    "#### Step 3: Explain what you observe from the plot above."
   ]
  },
  {
   "cell_type": "code",
   "execution_count": 51,
   "metadata": {},
   "outputs": [
    {
     "data": {
      "text/plain": [
       "'\\nThe y axis represent the probability of clicking and the x axis represents the number of times you repeat the experiment,when you repeat the\\nexperiment 1 time the mean is probability seems to be 0.4 which would be 40%, as we increase the number of trials this\\nprobability of clicking in an ad goes down.\\n\\n'"
      ]
     },
     "execution_count": 51,
     "metadata": {},
     "output_type": "execute_result"
    }
   ],
   "source": [
    "\"\"\"\n",
    "The y axis represent the probability of clicking and the x axis represents the number of times you repeat the experiment,when you repeat the\n",
    "experiment 1 time the mean is probability seems to be 0.4 which would be 40%, as we increase the number of trials this\n",
    "probability of clicking in an ad goes down, so the more people you expose to clicking the ad the less likely they are to clicking all of them.\n",
    "You are measuring the number of clicks minding that each person can either click once or not.\n",
    "\n",
    "\"\"\""
   ]
  },
  {
   "cell_type": "markdown",
   "metadata": {},
   "source": [
    "#### Step 4: Now plot PMF with 50, 500, and 5000 visitors.\n",
    "To plot the PMF, you can copy the code given above and replace variable `dist` for the name of the variables where you have stored the new binomial objects for 50, 500 and 5000 visitors."
   ]
  },
  {
   "cell_type": "code",
   "execution_count": 50,
   "metadata": {},
   "outputs": [
    {
     "data": {
      "image/png": "[encoded data removed]",
      "text/plain": [
       "<Figure size 432x288 with 1 Axes>"
      ]
     },
     "metadata": {
      "needs_background": "light"
     },
     "output_type": "display_data"
    },
    {
     "data": {
      "image/png": "[encoded data removed]",
      "text/plain": [
       "<Figure size 432x288 with 1 Axes>"
      ]
     },
     "metadata": {
      "needs_background": "light"
     },
     "output_type": "display_data"
    },
    {
     "data": {
      "image/png": "[encoded data removed]",
      "text/plain": [
       "<Figure size 432x288 with 1 Axes>"
      ]
     },
     "metadata": {
      "needs_background": "light"
     },
     "output_type": "display_data"
    }
   ],
   "source": [
    "sizes = [50,500,5000]\n",
    "p=0.15\n",
    "for i in sizes:\n",
    "    dist=stats.binom(i,p)\n",
    "    x = range(i)\n",
    "    fig, ax = plt.subplots(1, 1)\n",
    "    plt.plot(x, dist.pmf(x))\n"
   ]
  },
  {
   "cell_type": "markdown",
   "metadata": {},
   "source": [
    "#### Step 5: What did you notice from the distribution plots? Comment your findings."
   ]
  },
  {
   "cell_type": "code",
   "execution_count": 52,
   "metadata": {},
   "outputs": [
    {
     "data": {
      "text/plain": [
       "\"\\nSo when there are 50 chances of clicking the proportion of successes or clicks will be close to 0.16 so 0.16*50 =8.\\nSame for 500 out of 500 people the proportion has gone down, approximately 5% of them so 0.05*500=25 people will click, but if you show it to \\n5000 it will be closer to the ideal mean of 0.15*5000=750 people will click.\\n\\nit's the same as Marta explained with the coin, with few repetitions the mean of success will be randomly over or bellow the\\ntheoretical mean, and as we approximate an infinite number of repetitions we'll get closer to it.\\n\""
      ]
     },
     "execution_count": 52,
     "metadata": {},
     "output_type": "execute_result"
    }
   ],
   "source": [
    "\"\"\"\n",
    "So when there are 50 chances of clicking the proportion of successes or clicks will be close to 0.16 so 0.16*50 =8.\n",
    "Same for 500 out of 500 people the proportion has gone down, approximately 5% of them so 0.05*500=25 people will click, but if you show it to \n",
    "5000 it will be closer to the ideal mean of 0.15*5000=750 people will click.\n",
    "\n",
    "it's the same as Marta explained with the coin, with few repetitions the mean of success will be randomly over or bellow the\n",
    "theoretical mean, and as we approximate an infinite number of repetitions we'll get closer to it.\n",
    "\"\"\""
   ]
  },
  {
   "cell_type": "markdown",
   "metadata": {},
   "source": [
    "# Challenge 3\n",
    "#### Step 1: Research the Poisson distribution. Write about your own understanding of the Poisson distribution."
   ]
  },
  {
   "cell_type": "code",
   "execution_count": null,
   "metadata": {},
   "outputs": [],
   "source": [
    "\"\"\"\n",
    "It tells us the probability of an event happening in a timeframe, that I get. I do not get how that probability is computed\n",
    "but I know it depends on the euler number elevated to the rate at which the event happens\n",
    "\"\"\""
   ]
  },
  {
   "cell_type": "markdown",
   "metadata": {},
   "source": [
    "#### Step 2: A website has an average of 300 visits per day. What is the probability of getting 320 visitors in a day?\n",
    "\n",
    "**Hint**: use `scipy.stats.poisson.pmf`."
   ]
  },
  {
   "cell_type": "code",
   "execution_count": 57,
   "metadata": {},
   "outputs": [
    {
     "name": "stdout",
     "output_type": "stream",
     "text": [
      " The prob of having 320 visits is 1.161%\n"
     ]
    }
   ],
   "source": [
    "print(f' The prob of having 320 visits is {round(stats.poisson.pmf(k=320,mu=300)*100,3)}%')"
   ]
  },
  {
   "cell_type": "markdown",
   "metadata": {},
   "source": [
    "#### Step 3: What is the probability of getting 60 visits?"
   ]
  },
  {
   "cell_type": "code",
   "execution_count": 58,
   "metadata": {},
   "outputs": [
    {
     "name": "stdout",
     "output_type": "stream",
     "text": [
      " The prob of having 60 visits is 0.0%\n"
     ]
    }
   ],
   "source": [
    "print(f' The prob of having 60 visits is {round(stats.poisson.pmf(k=60,mu=300)*100,3)}%')"
   ]
  },
  {
   "cell_type": "markdown",
   "metadata": {},
   "source": [
    "#### Step 4: Create a list to store the Poisson distribution probabilities for 0 to 1000 visitors. Store your list in a variable called `arr`."
   ]
  },
  {
   "cell_type": "code",
   "execution_count": 61,
   "metadata": {},
   "outputs": [
    {
     "data": {
      "text/plain": [
       "[5.148200222412013e-131,\n",
       " 1.5444600667235709e-128,\n",
       " 2.3166901000854342e-126,\n",
       " 2.31669010008539e-124,\n",
       " 1.7375175750640974e-122,\n",
       " 1.042510545038448e-120,\n",
       " 5.212552725192131e-119,\n",
       " 2.23395116793948e-117,\n",
       " 8.377316879773299e-116,\n",
       " 2.7924389599243865e-114,\n",
       " 8.377316879773059e-113,\n",
       " 2.2847227853926804e-111,\n",
       " 5.71180696348157e-110,\n",
       " 1.318109299264997e-108,\n",
       " 2.824519926996411e-107,\n",
       " 5.649039853992778e-106,\n",
       " 1.0591949726236754e-104,\n",
       " 1.8691675987476173e-103,\n",
       " 3.1152793312460596e-102,\n",
       " 4.918862101967454e-101,\n",
       " 7.378293152951289e-100,\n",
       " 1.0540418789930416e-98,\n",
       " 1.4373298349904852e-97,\n",
       " 1.874778045639763e-96,\n",
       " 2.3434725570497126e-95,\n",
       " 2.812167068459659e-94,\n",
       " 3.2448081559150323e-93,\n",
       " 3.605342395461095e-92,\n",
       " 3.8628668522797225e-91,\n",
       " 3.996069157530829e-90,\n",
       " 3.9960691575307916e-89,\n",
       " 3.8671637008362115e-88,\n",
       " 3.6254659695339394e-87,\n",
       " 3.295878154121811e-86,\n",
       " 2.908127783048746e-85,\n",
       " 2.492680956898807e-84,\n",
       " 2.0772341307490223e-83,\n",
       " 1.684243889796562e-82,\n",
       " 1.3296662287866792e-81,\n",
       " 1.0228201759897706e-80,\n",
       " 7.671151319923377e-80,\n",
       " 5.61303755116352e-79,\n",
       " 4.009312536545479e-78,\n",
       " 2.7971947929385084e-77,\n",
       " 1.9071782679126897e-76,\n",
       " 1.2714521786084167e-75,\n",
       " 8.292079425707285e-75,\n",
       " 5.292816654706792e-74,\n",
       " 3.308010409191751e-73,\n",
       " 2.0253124954234986e-72,\n",
       " 1.2151874972541331e-71,\n",
       " 7.1481617485533646e-71,\n",
       " 4.123939470319411e-70,\n",
       " 2.334305360558085e-69,\n",
       " 1.2968363114211372e-68,\n",
       " 7.073652607751824e-68,\n",
       " 3.789456754152734e-67,\n",
       " 1.9944509232382822e-66,\n",
       " 1.0316125465025791e-65,\n",
       " 5.245487524589388e-65,\n",
       " 2.622743762294515e-64,\n",
       " 1.2898739814563793e-63,\n",
       " 6.241325716724519e-63,\n",
       " 2.9720598651070062e-62,\n",
       " 1.3931530617688636e-61,\n",
       " 6.42993720816397e-61,\n",
       " 2.92269873098366e-60,\n",
       " 1.3086710735747233e-59,\n",
       " 5.773548854006299e-59,\n",
       " 2.510238632176586e-58,\n",
       " 1.075816556647147e-57,\n",
       " 4.545703760480971e-57,\n",
       " 1.8940432335336415e-56,\n",
       " 7.783739315891554e-56,\n",
       " 3.1555699929292893e-55,\n",
       " 1.2622279971716488e-54,\n",
       " 4.982478936203708e-54,\n",
       " 1.9412255595599473e-53,\n",
       " 7.466252152153756e-53,\n",
       " 2.835285627400389e-52,\n",
       " 1.0632321102750065e-51,\n",
       " 3.937896704722199e-51,\n",
       " 1.440693916361796e-50,\n",
       " 5.2073274085368045e-50,\n",
       " 1.859759788763244e-49,\n",
       " 6.563858077987835e-49,\n",
       " 2.2897179341817668e-48,\n",
       " 7.89557908338536e-48,\n",
       " 2.691674687517754e-47,\n",
       " 9.07306074444211e-47,\n",
       " 3.0243535814806817e-46,\n",
       " 9.970396422463556e-46,\n",
       " 3.251216224716087e-45,\n",
       " 1.0487794273278516e-44,\n",
       " 3.347168385089081e-44,\n",
       " 1.05700054265966e-43,\n",
       " 3.3031266958113436e-43,\n",
       " 1.0215855760241558e-42,\n",
       " 3.127302783747286e-42,\n",
       " 9.476675102264663e-42,\n",
       " 2.843002530679554e-41]"
      ]
     },
     "execution_count": 61,
     "metadata": {},
     "output_type": "execute_result"
    }
   ],
   "source": [
    "arr=[]\n",
    "for i in range(0,101):\n",
    "    prob=stats.poisson.pmf(k=i,mu=300)\n",
    "    arr.append(prob)\n",
    "arr"
   ]
  },
  {
   "cell_type": "markdown",
   "metadata": {},
   "source": [
    "#### Step 5: Plot the probabilities.\n",
    "To do it, run the code in the cell below. Your plot should look like the one below:\n",
    "\n",
    "![poisson distribution](../images/ch-3.png)"
   ]
  },
  {
   "cell_type": "code",
   "execution_count": 62,
   "metadata": {},
   "outputs": [
    {
     "data": {
      "image/png": "[encoded data removed]",
      "text/plain": [
       "<Figure size 432x288 with 1 Axes>"
      ]
     },
     "metadata": {
      "needs_background": "light"
     },
     "output_type": "display_data"
    }
   ],
   "source": [
    "# run this code\n",
    "plt.plot(arr)\n",
    "plt.show()"
   ]
  },
  {
   "cell_type": "markdown",
   "metadata": {},
   "source": [
    "# Challenge 4 - Central Limit Theorem\n",
    "\n",
    "A delivery company needs 35 minutes to deliver a package, with a standard deviation of 8 minutes. Suppose that in one day, they deliver 200 packages.\n",
    "\n",
    "**Hint**: `stats.norm.cdf` can help you find the answers.\n",
    "\n",
    "#### Step 1: What is the probability that the mean delivery time today is between 30 and 35 minutes?"
   ]
  },
  {
   "cell_type": "code",
   "execution_count": null,
   "metadata": {},
   "outputs": [],
   "source": []
  },
  {
   "cell_type": "code",
   "execution_count": 73,
   "metadata": {},
   "outputs": [
    {
     "name": "stdout",
     "output_type": "stream",
     "text": [
      "0.26598552904870054\n",
      "0.5\n",
      "The probability of delivering a package between 30 and 35 minutes is 23.401%\n"
     ]
    }
   ],
   "source": [
    "p_30 = stats.norm.cdf(30, loc=35, scale=8)\n",
    "p_35= stats.norm.cdf(35,loc=35,scale=8)\n",
    "print(p_30)\n",
    "print(p_35)\n",
    "print(f'The probability of delivering a package between 30 and 35 minutes is {round((p_35-p_30)*100,3)}%')"
   ]
  },
  {
   "cell_type": "markdown",
   "metadata": {},
   "source": [
    "#### Step 2: What is the probability that in total, it takes more than 115 hours to deliver all 200 packages?"
   ]
  },
  {
   "cell_type": "code",
   "execution_count": 76,
   "metadata": {},
   "outputs": [
    {
     "name": "stdout",
     "output_type": "stream",
     "text": [
      "0.47508233097075275\n",
      "The probability that they take more than 115h to deliver 200 packages is 52.492%\n"
     ]
    }
   ],
   "source": [
    "p_115=stats.norm.cdf((115*60/200), loc=35, scale=8)\n",
    "print(p_115)\n",
    "print(f'The probability that they take more than 115h to deliver 200 packages is {round((1-p_115)*100,3)}%')"
   ]
  },
  {
   "cell_type": "markdown",
   "metadata": {},
   "source": [
    "# Challenge 5 - Normal Variables\n",
    "The value (in thousands) of the monthly sales of a publishing company follows a normal distribution with a mean equal to 200 and a standard deviation equal to 40.\n",
    "\n",
    "<div align=\"center\">$X → N(200,40)$</div>\n",
    "\n",
    "**Hint**: `stats.norm.cdf` can help you find the answers.\n",
    "\n",
    "#### Step 1: Find the probability that the monthly sales are more than 300."
   ]
  },
  {
   "cell_type": "code",
   "execution_count": 78,
   "metadata": {},
   "outputs": [
    {
     "data": {
      "text/plain": [
       "0.621"
      ]
     },
     "execution_count": 78,
     "metadata": {},
     "output_type": "execute_result"
    }
   ],
   "source": [
    "round((1-stats.norm.cdf(300,200,40))*100,3)"
   ]
  },
  {
   "cell_type": "markdown",
   "metadata": {},
   "source": [
    "#### Step 2: Find the probability that the monthly sales fall between 160 and 240."
   ]
  },
  {
   "cell_type": "code",
   "execution_count": 80,
   "metadata": {},
   "outputs": [
    {
     "data": {
      "text/plain": [
       "68.269"
      ]
     },
     "execution_count": 80,
     "metadata": {},
     "output_type": "execute_result"
    }
   ],
   "source": [
    "round((stats.norm.cdf(240,200,40)-stats.norm.cdf(160,200,40))*100,3)"
   ]
  },
  {
   "cell_type": "markdown",
   "metadata": {},
   "source": [
    "#### Step 3: Find the probability that the monthly sales do not exceed 150."
   ]
  },
  {
   "cell_type": "code",
   "execution_count": 81,
   "metadata": {},
   "outputs": [
    {
     "data": {
      "text/plain": [
       "10.565"
      ]
     },
     "execution_count": 81,
     "metadata": {},
     "output_type": "execute_result"
    }
   ],
   "source": [
    "round((stats.norm.cdf(150,200,40))*100,3)"
   ]
  },
  {
   "cell_type": "markdown",
   "metadata": {},
   "source": [
    "#### Step 4: Find the probability that the monthly sales exceed 3000."
   ]
  },
  {
   "cell_type": "code",
   "execution_count": 82,
   "metadata": {},
   "outputs": [
    {
     "data": {
      "text/plain": [
       "0.0"
      ]
     },
     "execution_count": 82,
     "metadata": {},
     "output_type": "execute_result"
    }
   ],
   "source": [
    "round((1-stats.norm.cdf(3000,200,40))*100,3)"
   ]
  },
  {
   "cell_type": "markdown",
   "metadata": {},
   "source": [
    "# Challenge 6 - Poisson distribution\n",
    "The mean number of violent robberies per month that are registered in a particular barrio is 4.\n",
    "\n",
    "**Hint**: `stats.poisson.cdf` can help you find the answers.\n",
    "\n",
    "#### Step 1: Find the probability that in a particular month there is no violent robbery."
   ]
  },
  {
   "cell_type": "code",
   "execution_count": 83,
   "metadata": {},
   "outputs": [
    {
     "name": "stdout",
     "output_type": "stream",
     "text": [
      " The prob of having 0 robberies is 1.832%\n"
     ]
    }
   ],
   "source": [
    "print(f' The prob of having 0 robberies is {round(stats.poisson.pmf(k=0,mu=4)*100,3)}%')"
   ]
  },
  {
   "cell_type": "markdown",
   "metadata": {},
   "source": [
    "#### Step 2: Find the probability that there are at least 1 robbery in a given month."
   ]
  },
  {
   "cell_type": "code",
   "execution_count": 87,
   "metadata": {},
   "outputs": [
    {
     "name": "stdout",
     "output_type": "stream",
     "text": [
      " The prob of having at least 1 robbery is 90.842%\n"
     ]
    }
   ],
   "source": [
    "print(f' The prob of having at least 1 robbery is {round((1-stats.poisson.cdf(k=1,mu=4))*100,3)}%')"
   ]
  },
  {
   "cell_type": "markdown",
   "metadata": {},
   "source": [
    "#### Step 3: Find the probability that there are between 2 and 6 (inclusive) robberies in a given month."
   ]
  },
  {
   "cell_type": "code",
   "execution_count": 89,
   "metadata": {},
   "outputs": [
    {
     "name": "stdout",
     "output_type": "stream",
     "text": [
      " The prob of having between 2 and 6 robberies is 65.122%\n"
     ]
    }
   ],
   "source": [
    "print(f' The prob of having between 2 and 6 robberies is {round((stats.poisson.cdf(k=6,mu=4)-stats.poisson.cdf(k=2,mu=4))*100,3)}%')"
   ]
  },
  {
   "cell_type": "markdown",
   "metadata": {},
   "source": [
    "#### Step 4: Find the probability that there are more than 2 robberies in 15 days."
   ]
  },
  {
   "cell_type": "code",
   "execution_count": 92,
   "metadata": {},
   "outputs": [
    {
     "name": "stdout",
     "output_type": "stream",
     "text": [
      "2.0\n"
     ]
    }
   ],
   "source": [
    "roberies_day=4/30\n",
    "print(roberies_day*15)"
   ]
  },
  {
   "cell_type": "code",
   "execution_count": 93,
   "metadata": {},
   "outputs": [
    {
     "name": "stdout",
     "output_type": "stream",
     "text": [
      " The prob of having more than 2 robberies in 15 days is  32.332%\n"
     ]
    }
   ],
   "source": [
    "print(f' The prob of having more than 2 robberies in 15 days is  {round((1-stats.poisson.cdf(k=2,mu=2))*100,3)}%')"
   ]
  },
  {
   "cell_type": "code",
   "execution_count": null,
   "metadata": {},
   "outputs": [],
   "source": []
  }
 ],
 "metadata": {
  "anaconda-cloud": {},
  "kernelspec": {
   "display_name": "Python 3",
   "language": "python",
   "name": "python3"
  },
  "language_info": {
   "codemirror_mode": {
    "name": "ipython",
    "version": 3
   },
   "file_extension": ".py",
   "mimetype": "text/x-python",
   "name": "python",
   "nbconvert_exporter": "python",
   "pygments_lexer": "ipython3",
   "version": "3.7.6"
  }
 },
 "nbformat": 4,
 "nbformat_minor": 1
}
